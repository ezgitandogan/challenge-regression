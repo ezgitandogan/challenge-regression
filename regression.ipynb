{
 "cells": [
  {
   "cell_type": "code",
   "execution_count": 2,
   "metadata": {},
   "outputs": [],
   "source": [
    "import pandas as pd\n",
    "import numpy as np\n",
    "import matplotlib.pyplot as plt\n",
    "from sklearn.model_selection import train_test_split\n",
    "from sklearn.compose import ColumnTransformer\n",
    "from sklearn.preprocessing import OneHotEncoder\n",
    "from sklearn.linear_model import LinearRegression\n",
    "from sklearn.tree import DecisionTreeRegressor\n",
    "from sklearn.model_selection import train_test_split\n",
    "from sklearn.metrics import mean_squared_error, r2_score\n",
    "from sklearn.metrics import mean_absolute_error\n"
   ]
  },
  {
   "cell_type": "code",
   "execution_count": 3,
   "metadata": {},
   "outputs": [],
   "source": [
    "df=pd.read_csv('last_data.csv')"
   ]
  },
  {
   "cell_type": "code",
   "execution_count": null,
   "metadata": {},
   "outputs": [
    {
     "name": "stdout",
     "output_type": "stream",
     "text": [
      " DecisionTree R^2: 0.5846442297991623\n",
      " DecisionTree MSE: 8429695392.405273\n",
      " DecisionTree RMSE: 91813.3726229751\n",
      " DecisionTree MAE: 58824.49699576056\n"
     ]
    }
   ],
   "source": [
    "\"\"\"  \n",
    "\n",
    "X=df.drop('price',axis=1) \n",
    "y=df['price'] \n",
    "\n",
    "\n",
    "X_train, X_test, y_train, y_test = train_test_split(X, y, test_size=0.2, random_state=42)\n",
    "\n",
    "dt = DecisionTreeRegressor()\n",
    "\n",
    "\n",
    "dt.fit(X_train, y_train)\n",
    "\n",
    "y_pred = dt.predict(X_test)\n",
    "\n",
    "\n",
    "\n",
    "print(\" DecisionTree R^2:\", r2_score(y_test, y_pred))\n",
    "print(\" DecisionTree MSE:\", mean_squared_error(y_test, y_pred))\n",
    "print(\" DecisionTree RMSE:\", np.sqrt(mean_squared_error(y_test, y_pred)))\n",
    "print(\" DecisionTree MAE:\", mean_absolute_error(y_test, y_pred))\n",
    "\n",
    "\n",
    "\"\"\"\n",
    "\n",
    "\"\"\"\n",
    "DecisionTree R^2: 0.5846442297991623\n",
    "DecisionTree MSE: 8429695392.405273\n",
    "DecisionTree RMSE: 91813.3726229751\n",
    "DecisionTree MAE: 58824.49699576056\n",
    "\n",
    "\"\"\"\n"
   ]
  },
  {
   "cell_type": "code",
   "execution_count": null,
   "metadata": {},
   "outputs": [
    {
     "name": "stdout",
     "output_type": "stream",
     "text": [
      "Gradient Boosting R^2: 0.6889937643477184\n",
      "Gradient Boosting MSE: 6311909018.188618\n",
      "Gradient Boosting MAE: 59024.365442206545\n",
      "Gradient Boosting RMSE: 79447.52367562262\n"
     ]
    }
   ],
   "source": [
    "\"\"\"\n",
    "from sklearn.ensemble import GradientBoostingRegressor\n",
    "from sklearn.metrics import r2_score, mean_squared_error, mean_absolute_error\n",
    "import numpy as np\n",
    "from sklearn.model_selection import train_test_split\n",
    "\n",
    "\n",
    "\n",
    "X=df.drop('price',axis=1) \n",
    "y=df['price'] \n",
    "\n",
    "X_train, X_test, y_train, y_test = train_test_split(X, y, test_size=0.2, random_state=42)\n",
    "\n",
    "\n",
    "\n",
    "gb = GradientBoostingRegressor()\n",
    "\n",
    "\n",
    "gb.fit(X_train, y_train)\n",
    "\n",
    "\n",
    "y_pred = gb.predict(X_test)\n",
    "\n",
    "\n",
    "print(\"Gradient Boosting R^2:\", r2_score(y_test, y_pred))\n",
    "print(\"Gradient Boosting MSE:\", mean_squared_error(y_test, y_pred))\n",
    "print(\"Gradient Boosting MAE:\", mean_absolute_error(y_test, y_pred))\n",
    "print(\"Gradient Boosting RMSE:\", np.sqrt(mean_squared_error(y_test, y_pred)))\n",
    "\n",
    "\"\"\"\n",
    "\n",
    "\"\"\"\n",
    "\n",
    "\n",
    "Gradient Boosting R^2: 0.6889937643477184\n",
    "Gradient Boosting MSE: 6311909018.188618\n",
    "Gradient Boosting MAE: 59024.365442206545\n",
    "Gradient Boosting RMSE: 79447.52367562262\n",
    "\n",
    "\"\"\"\n",
    "\n",
    "\n",
    "\n",
    "\n",
    "\n"
   ]
  },
  {
   "cell_type": "code",
   "execution_count": 6,
   "metadata": {},
   "outputs": [
    {
     "name": "stdout",
     "output_type": "stream",
     "text": [
      "XGBoost R^2 0.7729325294494629\n",
      "XGBoost MSE: 4608360977.958961\n",
      "XGBoost MAE: 48920.16495009698\n"
     ]
    }
   ],
   "source": [
    "\n",
    "import xgboost as xgb\n",
    "from sklearn.metrics import mean_squared_error, r2_score\n",
    "from sklearn.metrics import mean_squared_error, r2_score\n",
    "from sklearn.model_selection import train_test_split\n",
    "from sklearn.model_selection import train_test_split\n",
    "\n",
    "\n",
    "# Separating features and target variable\n",
    "X=df.drop('price',axis=1) \n",
    "y=df['price'] \n",
    "\n",
    "# Splitting the data into training and test sets\n",
    "X_train, X_test, y_train, y_test = train_test_split(X, y, test_size=0.2, random_state=42)\n",
    "\n",
    "# Creating the XGBoost regression model\n",
    "xg_reg = xgb.XGBRegressor(objective='reg:squarederror', n_estimators=100)\n",
    "\n",
    "# Training the model with training data\n",
    "xg_reg.fit(X_train, y_train)\n",
    "\n",
    "# Making predictions with the test data\n",
    "y_pred = xg_reg.predict(X_test)\n",
    "\n",
    "\n",
    "\n",
    "# Evaluating the model's performance\n",
    "print(\"XGBoost R^2\", r2_score(y_test, y_pred))\n",
    "print(\"XGBoost MSE:\", mean_squared_error(y_test, y_pred))\n",
    "print(\"XGBoost MAE:\", mean_absolute_error(y_test, y_pred))\n"
   ]
  },
  {
   "cell_type": "code",
   "execution_count": 9,
   "metadata": {},
   "outputs": [
    {
     "data": {
      "image/png": "[encoded data removed]",
      "text/plain": [
       "<Figure size 700x500 with 1 Axes>"
      ]
     },
     "metadata": {},
     "output_type": "display_data"
    }
   ],
   "source": [
    "plt.figure(figsize=(7, 5))\n",
    "plt.hist(y_test, bins=50, alpha=0.5, label='real')\n",
    "plt.hist(y_pred, bins=50, alpha=0.5, label='predicted')\n",
    "plt.xlabel(\"Price\")  # x-axis label\n",
    "plt.ylabel(\"Frequency\")  # y-axis label, frequency shows how many data points fall into each bin\n",
    "plt.title(\"Histogram of Actual and Predicted Prices\")\n",
    "plt.legend(loc='upper right')\n",
    "plt.show()"
   ]
  }
 ],
 "metadata": {
  "kernelspec": {
   "display_name": "Python 3",
   "language": "python",
   "name": "python3"
  },
  "language_info": {
   "codemirror_mode": {
    "name": "ipython",
    "version": 3
   },
   "file_extension": ".py",
   "mimetype": "text/x-python",
   "name": "python",
   "nbconvert_exporter": "python",
   "pygments_lexer": "ipython3",
   "version": "3.10.12"
  }
 },
 "nbformat": 4,
 "nbformat_minor": 2
}
