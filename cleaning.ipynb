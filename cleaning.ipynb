{
 "cells": [
  {
   "cell_type": "code",
   "execution_count": 1,
   "metadata": {},
   "outputs": [],
   "source": [
    "import pandas as pd\n",
    "import numpy as np\n",
    "import matplotlib.pyplot as plt\n",
    "from sklearn.model_selection import train_test_split\n",
    "from sklearn.compose import ColumnTransformer\n",
    "from sklearn.preprocessing import OneHotEncoder\n",
    "from sklearn.linear_model import LinearRegression"
   ]
  },
  {
   "cell_type": "code",
   "execution_count": 2,
   "metadata": {},
   "outputs": [],
   "source": [
    "df=pd.read_csv('cleaned_dataset.csv')"
   ]
  },
  {
   "cell_type": "code",
   "execution_count": 3,
   "metadata": {},
   "outputs": [
    {
     "data": {
      "text/plain": [
       "Index(['bathroomcount', 'bedroomcount', 'constructionyear', 'country',\n",
       "       'district', 'fireplace', 'floodingzone', 'furnished', 'garden',\n",
       "       'kitchen', 'livingarea', 'locality', 'monthlycharges',\n",
       "       'numberoffacades', 'peb', 'postalcode', 'price', 'propertyid',\n",
       "       'province', 'region', 'roomcount', 'showercount', 'stateofbuilding',\n",
       "       'subtypeofproperty', 'surfaceofplot', 'swimmingpool', 'terrace',\n",
       "       'toiletcount', 'typeofproperty', 'typeofsale'],\n",
       "      dtype='object')"
      ]
     },
     "execution_count": 3,
     "metadata": {},
     "output_type": "execute_result"
    }
   ],
   "source": [
    "df.columns"
   ]
  },
  {
   "cell_type": "code",
   "execution_count": 4,
   "metadata": {},
   "outputs": [],
   "source": [
    "df['new_roomcount'] = (\n",
    "    df['bathroomcount'] +\n",
    "    df['bedroomcount'] +\n",
    "    df['kitchen'] +\n",
    "    df['showercount'] +\n",
    "    df['toiletcount']\n",
    ")"
   ]
  },
  {
   "cell_type": "code",
   "execution_count": 5,
   "metadata": {},
   "outputs": [],
   "source": [
    "df.drop(['country','monthlycharges','propertyid','typeofsale','roomcount'], axis=1, inplace=True)\n"
   ]
  },
  {
   "cell_type": "code",
   "execution_count": 6,
   "metadata": {},
   "outputs": [
    {
     "data": {
      "text/plain": [
       "array(['NON_FLOOD_ZONE', 'POSSIBLE_FLOOD_ZONE', 'RECOGNIZED_FLOOD_ZONE',\n",
       "       'CIRCUMSCRIBED_WATERSIDE_ZONE',\n",
       "       'POSSIBLE_N_CIRCUMSCRIBED_FLOOD_ZONE',\n",
       "       'RECOGNIZED_N_CIRCUMSCRIBED_WATERSIDE_FLOOD_ZONE',\n",
       "       'CIRCUMSCRIBED_FLOOD_ZONE',\n",
       "       'RECOGNIZED_N_CIRCUMSCRIBED_FLOOD_ZONE',\n",
       "       'POSSIBLE_N_CIRCUMSCRIBED_WATERSIDE_ZONE'], dtype=object)"
      ]
     },
     "execution_count": 6,
     "metadata": {},
     "output_type": "execute_result"
    }
   ],
   "source": [
    "df.floodingzone.unique()"
   ]
  },
  {
   "cell_type": "code",
   "execution_count": 7,
   "metadata": {},
   "outputs": [
    {
     "name": "stderr",
     "output_type": "stream",
     "text": [
      "C:\\Users\\Ezgi Tandoğan\\AppData\\Local\\Temp\\ipykernel_11596\\3116136508.py:12: FutureWarning: Downcasting behavior in `replace` is deprecated and will be removed in a future version. To retain the old behavior, explicitly call `result.infer_objects(copy=False)`. To opt-in to the future behavior, set `pd.set_option('future.no_silent_downcasting', True)`\n",
      "  df['floodingzone'] = df['floodingzone'].replace(category_to_number)\n"
     ]
    }
   ],
   "source": [
    "category_to_number = {\n",
    "    'NON_FLOOD_ZONE': 0,\n",
    "    'POSSIBLE_FLOOD_ZONE': 1,\n",
    "    'CIRCUMSCRIBED_WATERSIDE_ZONE': 2,\n",
    "    'CIRCUMSCRIBED_FLOOD_ZONE': 3,\n",
    "    'POSSIBLE_N_CIRCUMSCRIBED_FLOOD_ZONE': 4,\n",
    "    'RECOGNIZED_FLOOD_ZONE': 5,\n",
    "    'RECOGNIZED_N_CIRCUMSCRIBED_FLOOD_ZONE': 6,\n",
    "    'RECOGNIZED_N_CIRCUMSCRIBED_WATERSIDE_FLOOD_ZONE': 7,\n",
    "    'POSSIBLE_N_CIRCUMSCRIBED_WATERSIDE_ZONE': 8\n",
    "}\n",
    "df['floodingzone'] = df['floodingzone'].replace(category_to_number)\n"
   ]
  },
  {
   "cell_type": "code",
   "execution_count": 8,
   "metadata": {},
   "outputs": [
    {
     "data": {
      "text/plain": [
       "array([0, 1, 5, 2, 4, 7, 3, 6, 8], dtype=int64)"
      ]
     },
     "execution_count": 8,
     "metadata": {},
     "output_type": "execute_result"
    }
   ],
   "source": [
    "df.floodingzone.unique()"
   ]
  },
  {
   "cell_type": "code",
   "execution_count": 9,
   "metadata": {},
   "outputs": [
    {
     "data": {
      "text/plain": [
       "Index(['bathroomcount', 'bedroomcount', 'constructionyear', 'district',\n",
       "       'fireplace', 'floodingzone', 'furnished', 'garden', 'kitchen',\n",
       "       'livingarea', 'locality', 'numberoffacades', 'peb', 'postalcode',\n",
       "       'price', 'province', 'region', 'showercount', 'stateofbuilding',\n",
       "       'subtypeofproperty', 'surfaceofplot', 'swimmingpool', 'terrace',\n",
       "       'toiletcount', 'typeofproperty', 'new_roomcount'],\n",
       "      dtype='object')"
      ]
     },
     "execution_count": 9,
     "metadata": {},
     "output_type": "execute_result"
    }
   ],
   "source": [
    "df.columns"
   ]
  },
  {
   "cell_type": "code",
   "execution_count": 10,
   "metadata": {},
   "outputs": [
    {
     "data": {
      "text/plain": [
       "array(['B', 'D', 'F', 'E', 'A', 'C', 'G', 'A++', 'A+', 'B_A', 'A_A+',\n",
       "       'E_D', 'E_C', 'F_C', 'F_D', 'G_C', 'F_E'], dtype=object)"
      ]
     },
     "execution_count": 10,
     "metadata": {},
     "output_type": "execute_result"
    }
   ],
   "source": [
    "df.peb.unique()"
   ]
  },
  {
   "cell_type": "code",
   "execution_count": 11,
   "metadata": {},
   "outputs": [
    {
     "name": "stderr",
     "output_type": "stream",
     "text": [
      "C:\\Users\\Ezgi Tandoğan\\AppData\\Local\\Temp\\ipykernel_11596\\1856911095.py:2: FutureWarning: Downcasting behavior in `replace` is deprecated and will be removed in a future version. To retain the old behavior, explicitly call `result.infer_objects(copy=False)`. To opt-in to the future behavior, set `pd.set_option('future.no_silent_downcasting', True)`\n",
      "  df['peb'] = df['peb'].replace(category_to_number)\n"
     ]
    }
   ],
   "source": [
    "category_to_number = {peb: idx for idx, peb in enumerate(df['peb'].unique())}\n",
    "df['peb'] = df['peb'].replace(category_to_number)"
   ]
  },
  {
   "cell_type": "code",
   "execution_count": 12,
   "metadata": {},
   "outputs": [
    {
     "data": {
      "text/plain": [
       "array([ 0,  1,  2,  3,  4,  5,  6,  7,  8,  9, 10, 11, 12, 13, 14, 15, 16],\n",
       "      dtype=int64)"
      ]
     },
     "execution_count": 12,
     "metadata": {},
     "output_type": "execute_result"
    }
   ],
   "source": [
    "df.peb.unique()"
   ]
  },
  {
   "cell_type": "code",
   "execution_count": 13,
   "metadata": {},
   "outputs": [
    {
     "data": {
      "text/plain": [
       "\"category_to_number = {district: idx for idx, district in enumerate(df['district'].unique())}\\ndf['district'] = df['district'].replace(category_to_number)\""
      ]
     },
     "execution_count": 13,
     "metadata": {},
     "output_type": "execute_result"
    }
   ],
   "source": [
    "\"\"\"category_to_number = {district: idx for idx, district in enumerate(df['district'].unique())}\n",
    "df['district'] = df['district'].replace(category_to_number)\"\"\""
   ]
  },
  {
   "cell_type": "code",
   "execution_count": 14,
   "metadata": {},
   "outputs": [
    {
     "data": {
      "text/plain": [
       "array(['Brugge', 'Tournai', 'Veurne', 'Hasselt', 'Brussels', 'Mechelen',\n",
       "       'Halle-Vilvoorde', 'Sint-Niklaas', 'Oostend', 'Ieper', 'Mons',\n",
       "       'Namur', 'Leuven', 'Antwerp', 'Nivelles', 'Charleroi', 'Liège',\n",
       "       'Maaseik', 'Verviers', 'Aalst', 'Soignies', 'Tongeren',\n",
       "       'Marche-en-Famenne', 'Kortrijk', 'Gent', 'Eeklo', 'Diksmuide',\n",
       "       'Dendermonde', 'Waremme', 'Philippeville', 'Huy', 'Dinant',\n",
       "       'Neufchâteau', 'Mouscron', 'Tielt', 'Roeselare', 'Turnhout',\n",
       "       'Oudenaarde', 'Thuin', 'Arlon', 'Virton', 'Ath', 'Bastogne'],\n",
       "      dtype=object)"
      ]
     },
     "execution_count": 14,
     "metadata": {},
     "output_type": "execute_result"
    }
   ],
   "source": [
    "df.district.unique()    "
   ]
  },
  {
   "cell_type": "code",
   "execution_count": 15,
   "metadata": {},
   "outputs": [
    {
     "data": {
      "text/plain": [
       "Index(['bathroomcount', 'bedroomcount', 'constructionyear', 'district',\n",
       "       'fireplace', 'floodingzone', 'furnished', 'garden', 'kitchen',\n",
       "       'livingarea', 'locality', 'numberoffacades', 'peb', 'postalcode',\n",
       "       'price', 'province', 'region', 'showercount', 'stateofbuilding',\n",
       "       'subtypeofproperty', 'surfaceofplot', 'swimmingpool', 'terrace',\n",
       "       'toiletcount', 'typeofproperty', 'new_roomcount'],\n",
       "      dtype='object')"
      ]
     },
     "execution_count": 15,
     "metadata": {},
     "output_type": "execute_result"
    }
   ],
   "source": [
    "df.columns"
   ]
  },
  {
   "cell_type": "code",
   "execution_count": 16,
   "metadata": {},
   "outputs": [
    {
     "data": {
      "text/plain": [
       "array(['Flanders', 'Wallonie', 'Brussels'], dtype=object)"
      ]
     },
     "execution_count": 16,
     "metadata": {},
     "output_type": "execute_result"
    }
   ],
   "source": [
    "df.region.unique()"
   ]
  },
  {
   "cell_type": "code",
   "execution_count": 17,
   "metadata": {},
   "outputs": [
    {
     "data": {
      "text/plain": [
       "Index(['bathroomcount', 'bedroomcount', 'constructionyear', 'district',\n",
       "       'fireplace', 'floodingzone', 'furnished', 'garden', 'kitchen',\n",
       "       'livingarea', 'locality', 'numberoffacades', 'peb', 'postalcode',\n",
       "       'price', 'showercount', 'stateofbuilding', 'subtypeofproperty',\n",
       "       'surfaceofplot', 'swimmingpool', 'terrace', 'toiletcount',\n",
       "       'typeofproperty', 'new_roomcount', 'province_Antwerp',\n",
       "       'province_Brussels', 'province_East Flanders',\n",
       "       'province_Flemish Brabant', 'province_Hainaut', 'province_Limburg',\n",
       "       'province_Liège', 'province_Luxembourg', 'province_Namur',\n",
       "       'province_Walloon Brabant', 'province_West Flanders', 'region_Brussels',\n",
       "       'region_Flanders', 'region_Wallonie'],\n",
       "      dtype='object')"
      ]
     },
     "execution_count": 17,
     "metadata": {},
     "output_type": "execute_result"
    }
   ],
   "source": [
    "columns_to_encode = ['province', 'region']\n",
    "columns_to_encode = [col for col in columns_to_encode if col in df.columns]\n",
    "df = pd.get_dummies(df, columns=columns_to_encode)\n",
    "df.columns"
   ]
  },
  {
   "cell_type": "code",
   "execution_count": 18,
   "metadata": {},
   "outputs": [
    {
     "data": {
      "text/plain": [
       "Index(['bathroomcount', 'bedroomcount', 'constructionyear', 'district',\n",
       "       'fireplace', 'floodingzone', 'furnished', 'garden', 'kitchen',\n",
       "       'livingarea',\n",
       "       ...\n",
       "       'postalcode_9968', 'postalcode_9970', 'postalcode_9971',\n",
       "       'postalcode_9980', 'postalcode_9981', 'postalcode_9982',\n",
       "       'postalcode_9988', 'postalcode_9990', 'postalcode_9991',\n",
       "       'postalcode_9992'],\n",
       "      dtype='object', length=6324)"
      ]
     },
     "execution_count": 18,
     "metadata": {},
     "output_type": "execute_result"
    }
   ],
   "source": [
    "columns_to_encode = ['locality', 'postalcode']\n",
    "columns_to_encode = [col for col in columns_to_encode if col in df.columns]\n",
    "df = pd.get_dummies(df, columns=columns_to_encode)\n",
    "df.columns"
   ]
  },
  {
   "cell_type": "code",
   "execution_count": 19,
   "metadata": {},
   "outputs": [
    {
     "data": {
      "text/plain": [
       "array(['flat_studio', 'apartment_block', 'house', 'apartment', 'kot',\n",
       "       'ground_floor', 'mixed_use_building', 'penthouse', 'loft',\n",
       "       'duplex', 'town_house', 'villa', 'mansion', 'triplex',\n",
       "       'service_flat', 'bungalow', 'country_cottage', 'farmhouse',\n",
       "       'exceptional_property', 'chalet', 'manor_house', 'other_property',\n",
       "       'castle', 'pavilion'], dtype=object)"
      ]
     },
     "execution_count": 19,
     "metadata": {},
     "output_type": "execute_result"
    }
   ],
   "source": [
    "df.subtypeofproperty.unique()"
   ]
  },
  {
   "cell_type": "code",
   "execution_count": 20,
   "metadata": {},
   "outputs": [
    {
     "name": "stderr",
     "output_type": "stream",
     "text": [
      "C:\\Users\\Ezgi Tandoğan\\AppData\\Local\\Temp\\ipykernel_11596\\671921184.py:29: FutureWarning: Downcasting behavior in `replace` is deprecated and will be removed in a future version. To retain the old behavior, explicitly call `result.infer_objects(copy=False)`. To opt-in to the future behavior, set `pd.set_option('future.no_silent_downcasting', True)`\n",
      "  df['subtypeofproperty'] = df['subtypeofproperty'].replace(sorted_subtypeofproperty)\n"
     ]
    }
   ],
   "source": [
    "sorted_subtypeofproperty = {\n",
    "    'flat_studio': 1, \n",
    "    'apartment': 2, \n",
    "    'service_flat': 3,\n",
    "    'kot': 4,\n",
    "    'ground_floor': 5,\n",
    "    'house': 6,\n",
    "    'loft': 7,\n",
    "    'duplex': 8, \n",
    "    'triplex': 9, \n",
    "    'town_house': 10, \n",
    "    'bungalow': 11, \n",
    "    'apartment_block': 12, \n",
    "    'mixed_use_building': 13, \n",
    "    'penthouse': 14, \n",
    "    'chalet': 15, \n",
    "    'country_cottage': 16, \n",
    "    'farmhouse': 17, \n",
    "    'villa': 18, \n",
    "    'manor_house': 19, \n",
    "    'mansion': 20, \n",
    "    'castle': 21, \n",
    "    'pavilion': 22,\n",
    "    'exceptional_property': 23,\n",
    "    'other_property': 24\n",
    "\n",
    "\n",
    "}\n",
    "df['subtypeofproperty'] = df['subtypeofproperty'].replace(sorted_subtypeofproperty)"
   ]
  },
  {
   "cell_type": "code",
   "execution_count": 21,
   "metadata": {},
   "outputs": [
    {
     "data": {
      "text/plain": [
       "array([ 1, 12,  6,  2,  4,  5, 13, 14,  7,  8, 10, 18, 20,  9,  3, 11, 16,\n",
       "       17, 23, 15, 19, 24, 21, 22], dtype=int64)"
      ]
     },
     "execution_count": 21,
     "metadata": {},
     "output_type": "execute_result"
    }
   ],
   "source": [
    "df.subtypeofproperty.unique()"
   ]
  },
  {
   "cell_type": "code",
   "execution_count": 22,
   "metadata": {},
   "outputs": [],
   "source": [
    "import pandas as pd\n",
    "from sklearn.preprocessing import LabelEncoder\n",
    "label_encoder = LabelEncoder()\n",
    "df['district'] = label_encoder.fit_transform(df['district'])\n"
   ]
  },
  {
   "cell_type": "code",
   "execution_count": 23,
   "metadata": {},
   "outputs": [],
   "source": [
    "df.to_csv('last_dataset.csv', index=False)"
   ]
  }
 ],
 "metadata": {
  "kernelspec": {
   "display_name": "Python 3",
   "language": "python",
   "name": "python3"
  },
  "language_info": {
   "codemirror_mode": {
    "name": "ipython",
    "version": 3
   },
   "file_extension": ".py",
   "mimetype": "text/x-python",
   "name": "python",
   "nbconvert_exporter": "python",
   "pygments_lexer": "ipython3",
   "version": "3.11.9"
  }
 },
 "nbformat": 4,
 "nbformat_minor": 2
}
